{
 "cells": [
  {
   "cell_type": "markdown",
   "metadata": {},
   "source": [
    "## Simulación de lanzamiento de dos dados usando la librería random"
   ]
  },
  {
   "cell_type": "code",
   "execution_count": 100,
   "metadata": {},
   "outputs": [
    {
     "name": "stdout",
     "output_type": "stream",
     "text": [
      "Suma    Frecuenca   Probabilidad\n",
      "2      3          3 %\n",
      "3      9          9 %\n",
      "4      11          11 %\n",
      "5      11          11 %\n",
      "6      17          17 %\n",
      "7      13          13 %\n",
      "8      14          14 %\n",
      "9      5          5 %\n",
      "10      8          8 %\n",
      "11      7          7 %\n",
      "12      2          2 %\n"
     ]
    }
   ],
   "source": [
    "import random\n",
    "\n",
    "suma = [0] * 11\n",
    "total = 100\n",
    "for i in range(total):\n",
    "    dados = (random.randrange(6)+1)+(random.randrange(6)+1)\n",
    "    suma[dados-2]=suma[dados-2]+1\n",
    "    \n",
    "print(\"Suma    Frecuenca   Probabilidad\")\n",
    "for e in range(11):\n",
    "    print(str(e+2)+\"      \"+str(suma[e])+\"          \"+str(round((suma[e]/total)*100))+\" %\")\n"
   ]
  },
  {
   "cell_type": "code",
   "execution_count": 110,
   "metadata": {},
   "outputs": [
    {
     "name": "stdout",
     "output_type": "stream",
     "text": [
      "Suma    Frecuenca   Probabilidad\n",
      "2      24          2.4 %\n",
      "3      59          5.9 %\n",
      "4      98          9.8 %\n",
      "5      116          11.6 %\n",
      "6      126          12.6 %\n",
      "7      171          17.1 %\n",
      "8      148          14.8 %\n",
      "9      109          10.9 %\n",
      "10      77          7.7 %\n",
      "11      49          4.9 %\n",
      "12      23          2.3 %\n"
     ]
    }
   ],
   "source": [
    "import random\n",
    "\n",
    "suma = [0] * 11\n",
    "total = 1000\n",
    "for i in range(total):\n",
    "    dados = (random.randrange(6)+1)+(random.randrange(6)+1)\n",
    "    suma[dados-2]=suma[dados-2]+1\n",
    "    \n",
    "print(\"Suma    Frecuenca   Probabilidad\")\n",
    "for e in range(11):\n",
    "    print(str(e+2)+\"      \"+str(suma[e])+\"          \"+str(round((suma[e]/total)*100,2))+\" %\")"
   ]
  },
  {
   "cell_type": "code",
   "execution_count": 109,
   "metadata": {},
   "outputs": [
    {
     "name": "stdout",
     "output_type": "stream",
     "text": [
      "Suma    Frecuenca   Probabilidad\n",
      "2      264          2.64 %\n",
      "3      560          5.6 %\n",
      "4      819          8.19 %\n",
      "5      1093          10.93 %\n",
      "6      1394          13.94 %\n",
      "7      1652          16.52 %\n",
      "8      1352          13.52 %\n",
      "9      1130          11.3 %\n",
      "10      839          8.39 %\n",
      "11      588          5.88 %\n",
      "12      309          3.09 %\n"
     ]
    }
   ],
   "source": [
    "import random\n",
    "\n",
    "suma = [0] * 11\n",
    "total = 10000\n",
    "for i in range(total):\n",
    "    dados = (random.randrange(6)+1)+(random.randrange(6)+1)\n",
    "    suma[dados-2]=suma[dados-2]+1\n",
    "    \n",
    "print(\"Suma    Frecuenca   Probabilidad\")\n",
    "for e in range(11):\n",
    "    print(str(e+2)+\"      \"+str(suma[e])+\"          \"+str(round((suma[e]/total)*100,2))+\" %\")"
   ]
  },
  {
   "cell_type": "markdown",
   "metadata": {},
   "source": [
    "Simulación de lanzamiento de dos dados usando la librería numpy"
   ]
  },
  {
   "cell_type": "code",
   "execution_count": 103,
   "metadata": {},
   "outputs": [
    {
     "name": "stdout",
     "output_type": "stream",
     "text": [
      "Suma    Frecuenca   Probabilidad\n",
      "2      3          3 %\n",
      "3      10          10 %\n",
      "4      10          10 %\n",
      "5      8          8 %\n",
      "6      13          13 %\n",
      "7      20          20 %\n",
      "8      8          8 %\n",
      "9      15          15 %\n",
      "10      7          7 %\n",
      "11      3          3 %\n",
      "12      3          3 %\n"
     ]
    }
   ],
   "source": [
    "import numpy as np\n",
    "\n",
    "suma = [0] * 11\n",
    "total = 100\n",
    "for i in range(total):\n",
    "    dados = (np.random.randint(6)+1)+(np.random.randint(6)+1)\n",
    "    suma[dados-2]=suma[dados-2]+1\n",
    "    \n",
    "print(\"Suma    Frecuenca   Probabilidad\")\n",
    "for e in range(11):\n",
    "    print(str(e+2)+\"      \"+str(suma[e])+\"          \"+str(round((suma[e]/total)*100))+\" %\")"
   ]
  },
  {
   "cell_type": "code",
   "execution_count": 108,
   "metadata": {},
   "outputs": [
    {
     "name": "stdout",
     "output_type": "stream",
     "text": [
      "Suma    Frecuenca   Probabilidad\n",
      "2      25          2.5 %\n",
      "3      58          5.8 %\n",
      "4      92          9.2 %\n",
      "5      117          11.7 %\n",
      "6      126          12.6 %\n",
      "7      171          17.1 %\n",
      "8      142          14.2 %\n",
      "9      101          10.1 %\n",
      "10      81          8.1 %\n",
      "11      57          5.7 %\n",
      "12      30          3.0 %\n"
     ]
    }
   ],
   "source": [
    "import numpy as np\n",
    "\n",
    "suma = [0] * 11\n",
    "total = 1000\n",
    "for i in range(total):\n",
    "    dados = (np.random.randint(6)+1)+(np.random.randint(6)+1)\n",
    "    suma[dados-2]=suma[dados-2]+1\n",
    "    \n",
    "print(\"Suma    Frecuenca   Probabilidad\")\n",
    "for e in range(11):\n",
    "    print(str(e+2)+\"      \"+str(suma[e])+\"          \"+str(round((suma[e]/total)*100,2))+\" %\")"
   ]
  },
  {
   "cell_type": "code",
   "execution_count": 113,
   "metadata": {
    "scrolled": true
   },
   "outputs": [
    {
     "name": "stdout",
     "output_type": "stream",
     "text": [
      "Suma    Frecuenca   Probabilidad\n",
      "2      297          2.97 %\n",
      "3      571          5.71 %\n",
      "4      794          7.94 %\n",
      "5      1146          11.46 %\n",
      "6      1378          13.78 %\n",
      "7      1719          17.19 %\n",
      "8      1326          13.26 %\n",
      "9      1102          11.02 %\n",
      "10      862          8.62 %\n",
      "11      534          5.34 %\n",
      "12      271          2.71 %\n"
     ]
    }
   ],
   "source": [
    "import numpy as np\n",
    "\n",
    "suma = [0] * 11\n",
    "total = 10000\n",
    "for i in range(total):\n",
    "    dados = (np.random.randint(6)+1)+(np.random.randint(6)+1)\n",
    "    suma[dados-2]=suma[dados-2]+1\n",
    "    \n",
    "print(\"Suma    Frecuenca   Probabilidad\")\n",
    "for e in range(11):\n",
    "    print(str(e+2)+\"      \"+str(suma[e])+\"          \"+str(round((suma[e]/total)*100,2))+\" %\")"
   ]
  },
  {
   "cell_type": "markdown",
   "metadata": {},
   "source": [
    "### Conclusiones\n",
    "Tras simular el lanzamiento de dos dados podemos observar que mediante simulación los resultados son más cercanos a los datos obtenidos en clase usando probabilidad  mientras mas intentos se realicen."
   ]
  }
 ],
 "metadata": {
  "kernelspec": {
   "display_name": "Python 3",
   "language": "python",
   "name": "python3"
  },
  "language_info": {
   "codemirror_mode": {
    "name": "ipython",
    "version": 3
   },
   "file_extension": ".py",
   "mimetype": "text/x-python",
   "name": "python",
   "nbconvert_exporter": "python",
   "pygments_lexer": "ipython3",
   "version": "3.7.6"
  }
 },
 "nbformat": 4,
 "nbformat_minor": 4
}
